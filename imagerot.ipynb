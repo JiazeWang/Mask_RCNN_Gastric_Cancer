{
 "cells": [
  {
   "cell_type": "code",
   "execution_count": null,
   "metadata": {
    "collapsed": false
   },
   "outputs": [],
   "source": [
    "import os\n",
    "import io\n",
    "import numpy as np\n",
    "import cv2\n",
    "\n",
    "DIR = \"/Users/songwenli/Downloads/rot\"\n",
    "\n",
    "list = os.listdir(DIR)\n",
    "for original_name in list:\n",
    "    \n",
    "    dir = os.path.join(DIR,original_name)\n",
    "    img = plt.imread(dir)\n",
    "    io.imshow(img)\n",
    "\n",
    "    root, ext = os.path.splitext(original_name)\n",
    "    new_name = root + \"__rot90\" + ext\n",
    "    img = image_array.rot90(new_name)\n",
    "    out_tiff = TIFF.open(new_name, mode = 'w')\n",
    "    print(new_name)\n",
    "    \n",
    "    plt.figure('skimage')\n",
    "    plt.imshow(img2)\n",
    "    plt.show()\n",
    "    print(img2.shape)\n",
    "    print(img2.dtype)"
   ]
  },
  {
   "cell_type": "code",
   "execution_count": null,
   "metadata": {
    "collapsed": true
   },
   "outputs": [],
   "source": []
  }
 ],
 "metadata": {
  "anaconda-cloud": {},
  "kernelspec": {
   "display_name": "Python [conda root]",
   "language": "python",
   "name": "conda-root-py"
  },
  "language_info": {
   "codemirror_mode": {
    "name": "ipython",
    "version": 3
   },
   "file_extension": ".py",
   "mimetype": "text/x-python",
   "name": "python",
   "nbconvert_exporter": "python",
   "pygments_lexer": "ipython3",
   "version": "3.5.2"
  }
 },
 "nbformat": 4,
 "nbformat_minor": 1
}
