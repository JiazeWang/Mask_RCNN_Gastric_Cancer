{
 "cells": [
  {
   "cell_type": "code",
   "execution_count": null,
   "metadata": {
    "collapsed": false
   },
   "outputs": [],
   "source": [
    "from keras.preprocessing import image\n",
    "import numpy as np\n",
    "from skimage.io import imread, imshow, imsave\n",
    "import os, threading\n",
    "\n",
    "DIR = '/home/swl/Mask_RCNN/val/Untitled Folder/'"
   ]
  },
  {
   "cell_type": "code",
   "execution_count": null,
   "metadata": {
    "collapsed": false
   },
   "outputs": [],
   "source": [
    "def rotate(x, theta, row_axis=0, col_axis=1, channel_axis=2, fill_mode='nearest', cval=0.):\n",
    "    rotation_matrix = np.array([[np.cos(theta), -np.sin(theta), 0],\n",
    "                                [np.sin(theta), np.cos(theta), 0],\n",
    "                                [0, 0, 1]])\n",
    "    h, w = x.shape[row_axis], x.shape[col_axis]\n",
    "    transform_matrix = image.transform_matrix_offset_center(rotation_matrix, h, w)\n",
    "    x = image.apply_transform(x, transform_matrix, channel_axis, fill_mode, cval)\n",
    "    return x"
   ]
  },
  {
   "cell_type": "code",
   "execution_count": null,
   "metadata": {
    "collapsed": false
   },
   "outputs": [],
   "source": [
    "def rotateImg90():\n",
    "    rotate_limit= -90 #自定义旋转角度\n",
    "    theta = np.pi /180 *rotate_limit #将其转换为PI\n",
    "    list = os.listdir(DIR)\n",
    "    for original_name in list:\n",
    "        dir = os.path.join(DIR,original_name)\n",
    "        root, ext = os.path.splitext(original_name)\n",
    "        img = imread(dir)\n",
    "        img_rot = rotate(img, theta)\n",
    "        new_name = root + \"__rot90\" + ext\n",
    "        imsave(new_name, img_rot)\n",
    "    print('90Done!')\n",
    "\n",
    "def rotateImg180():\n",
    "    rotate_limit= 180 #自定义旋转角度\n",
    "    theta = np.pi /180 *rotate_limit #将其转换为PI\n",
    "    list = os.listdir(DIR)\n",
    "    for original_name in list:\n",
    "        dir = os.path.join(DIR,original_name)\n",
    "        root, ext = os.path.splitext(original_name)\n",
    "        img = imread(dir)\n",
    "        img_rot = rotate(img, theta)\n",
    "        new_name = root + \"__rot180\" + ext\n",
    "        imsave(new_name, img_rot)\n",
    "    print('180Done!')\n",
    "    \n",
    "def rotateImg270():\n",
    "    rotate_limit= 90 #自定义旋转角度\n",
    "    theta = np.pi /180 *rotate_limit #将其转换为PI\n",
    "    list = os.listdir(DIR)\n",
    "    for original_name in list:\n",
    "        dir = os.path.join(DIR,original_name)\n",
    "        root, ext = os.path.splitext(original_name)\n",
    "        img = imread(dir)\n",
    "        img_rot = rotate(img, theta)\n",
    "        new_name = root + \"__rot270\" + ext\n",
    "        imsave(new_name, img_rot)\n",
    "    print('270Done!')"
   ]
  },
  {
   "cell_type": "code",
   "execution_count": null,
   "metadata": {
    "collapsed": false
   },
   "outputs": [],
   "source": [
    "threads = []\n",
    "t1 = threading.Thread(target=rotateImg90)\n",
    "threads.append(t1)\n",
    "t2 = threading.Thread(target=rotateImg180)\n",
    "threads.append(t2)\n",
    "t3 = threading.Thread(target=rotateImg270)\n",
    "threads.append(t3)\n",
    "for t in threads:\n",
    "    t.setDaemon(False)\n",
    "    t.start()\n",
    "    \n",
    "print('End.')"
   ]
  },
  {
   "cell_type": "code",
   "execution_count": null,
   "metadata": {
    "collapsed": true
   },
   "outputs": [],
   "source": []
  }
 ],
 "metadata": {
  "anaconda-cloud": {},
  "kernelspec": {
   "display_name": "Python [conda root]",
   "language": "python",
   "name": "conda-root-py"
  },
  "language_info": {
   "codemirror_mode": {
    "name": "ipython",
    "version": 3
   },
   "file_extension": ".py",
   "mimetype": "text/x-python",
   "name": "python",
   "nbconvert_exporter": "python",
   "pygments_lexer": "ipython3",
   "version": "3.5.2"
  }
 },
 "nbformat": 4,
 "nbformat_minor": 1
}
