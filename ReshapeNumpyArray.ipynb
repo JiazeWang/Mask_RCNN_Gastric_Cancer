{
 "cells": [
  {
   "cell_type": "code",
   "execution_count": null,
   "metadata": {
    "collapsed": false
   },
   "outputs": [],
   "source": [
    "import os\n",
    "import numpy as np\n",
    "from os import listdir\n",
    "from PIL import Image\n",
    "import PIL\n",
    "\n",
    "\n",
    "ROOT_DIR = os.getcwd()\n",
    "LABELS_DIR = os.path.join(ROOT_DIR, \"after\")\n",
    "filename_list = listdir(LABELS_DIR)\n",
    "\n",
    "for filename in filename_list:\n",
    "    arr = np.load(os.path.join(LABELS_DIR, filename))\n",
    "    print(arr.shape)\n",
    "    np.reshape(arr,(1024,1024,arr.shape[2]))\n",
    "    print(arr.shape)\n",
    "#     print(label.read)\n",
    "#     svg = file\n",
    "#     print(label)"
   ]
  },
  {
   "cell_type": "code",
   "execution_count": null,
   "metadata": {
    "collapsed": true
   },
   "outputs": [],
   "source": []
  }
 ],
 "metadata": {
  "anaconda-cloud": {},
  "kernelspec": {
   "display_name": "Python [conda root]",
   "language": "python",
   "name": "conda-root-py"
  },
  "language_info": {
   "codemirror_mode": {
    "name": "ipython",
    "version": 3
   },
   "file_extension": ".py",
   "mimetype": "text/x-python",
   "name": "python",
   "nbconvert_exporter": "python",
   "pygments_lexer": "ipython3",
   "version": "3.5.2"
  }
 },
 "nbformat": 4,
 "nbformat_minor": 1
}
