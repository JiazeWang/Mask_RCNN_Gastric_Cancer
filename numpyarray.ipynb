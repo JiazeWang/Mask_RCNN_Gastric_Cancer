{
 "cells": [
  {
   "cell_type": "code",
   "execution_count": 9,
   "metadata": {
    "collapsed": true
   },
   "outputs": [],
   "source": [
    "import numpy as np\n",
    "import os\n",
    "\n",
    "DIR = \"/home/swl/Mask_RCNN/mask/\""
   ]
  },
  {
   "cell_type": "code",
   "execution_count": 10,
   "metadata": {
    "collapsed": false
   },
   "outputs": [],
   "source": [
    "list = os.listdir(DIR)\n",
    "# print(list)\n",
    "\n",
    "for original_name in list:\n",
    "    dir = os.path.join(DIR,original_name)\n",
    "    arr = np.load(dir)\n",
    "    new_arr = np.flipud(arr)\n",
    "    root, ext = os.path.splitext(original_name)\n",
    "    new_name = root + \"__flipv\" + ext\n",
    "#     new_name = root + \"__rot90\" + ext\n",
    "#     print(new_name)\n",
    "    np.save(new_name, new_arr)\n",
    "    \n"
   ]
  },
  {
   "cell_type": "code",
   "execution_count": 11,
   "metadata": {
    "collapsed": false
   },
   "outputs": [
    {
     "name": "stdout",
     "output_type": "stream",
     "text": [
      "[[1 1 0]\n",
      " [1 0 0]\n",
      " [1 0 0]]\n",
      "[[0 1 1]\n",
      " [0 0 1]\n",
      " [0 0 1]]\n",
      "[[1 0 0]\n",
      " [1 0 0]\n",
      " [1 1 0]]\n",
      "[[0 0 0]\n",
      " [1 0 0]\n",
      " [1 1 1]]\n",
      "[[0 0 1]\n",
      " [0 0 1]\n",
      " [0 1 1]]\n",
      "[[1 1 1]\n",
      " [0 0 1]\n",
      " [0 0 0]]\n"
     ]
    }
   ],
   "source": [
    "a = np.array([[1, 1, 0],[1, 0, 0],[1, 0, 0]])\n",
    "\n",
    "print(a)\n",
    "print(np.fliplr(a))\n",
    "print(np.flipud(a))\n",
    "a = np.rot90(a)\n",
    "print(a)\n",
    "a = np.rot90(a)\n",
    "print(a)\n",
    "a = np.rot90(a)\n",
    "print(a)"
   ]
  },
  {
   "cell_type": "code",
   "execution_count": null,
   "metadata": {
    "collapsed": true
   },
   "outputs": [],
   "source": []
  }
 ],
 "metadata": {
  "anaconda-cloud": {},
  "kernelspec": {
   "display_name": "Python [conda root]",
   "language": "python",
   "name": "conda-root-py"
  },
  "language_info": {
   "codemirror_mode": {
    "name": "ipython",
    "version": 3
   },
   "file_extension": ".py",
   "mimetype": "text/x-python",
   "name": "python",
   "nbconvert_exporter": "python",
   "pygments_lexer": "ipython3",
   "version": "3.5.2"
  }
 },
 "nbformat": 4,
 "nbformat_minor": 1
}
